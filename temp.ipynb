{
 "cells": [
  {
   "cell_type": "markdown",
   "metadata": {},
   "source": [
    "## DataSet"
   ]
  },
  {
   "cell_type": "code",
   "execution_count": 1,
   "metadata": {},
   "outputs": [],
   "source": [
    "from dataloader import get_dataloader\n",
    "import config as CFG\n",
    "from tokenizer import get_tokenizer,get_feature_extractor"
   ]
  },
  {
   "cell_type": "code",
   "execution_count": 2,
   "metadata": {},
   "outputs": [],
   "source": [
    "from torchvision.datasets.utils import download_url\n"
   ]
  },
  {
   "cell_type": "code",
   "execution_count": 3,
   "metadata": {},
   "outputs": [
    {
     "name": "stdout",
     "output_type": "stream",
     "text": [
      "Using downloaded and verified file: ./flickr30k/flickr30k_val.json\n"
     ]
    }
   ],
   "source": [
    "val = 'https://storage.googleapis.com/sfr-vision-language-research/datasets/flickr30k_val.json'\n",
    "download_url(val,CFG.ann_root)"
   ]
  },
  {
   "cell_type": "markdown",
   "metadata": {},
   "source": [
    "## Model"
   ]
  },
  {
   "cell_type": "code",
   "execution_count": null,
   "metadata": {},
   "outputs": [],
   "source": []
  },
  {
   "cell_type": "code",
   "execution_count": 5,
   "metadata": {},
   "outputs": [],
   "source": [
    "from models import CLIPModel\n",
    "from losses import CLIPLoss"
   ]
  },
  {
   "cell_type": "code",
   "execution_count": 4,
   "metadata": {},
   "outputs": [],
   "source": [
    "from transformers import BertModel, BertConfig\n"
   ]
  },
  {
   "cell_type": "code",
   "execution_count": 11,
   "metadata": {},
   "outputs": [
    {
     "name": "stderr",
     "output_type": "stream",
     "text": [
      "Some weights of ViTModel were not initialized from the model checkpoint at facebook/dino-vits16 and are newly initialized: ['pooler.dense.bias', 'pooler.dense.weight']\n",
      "You should probably TRAIN this model on a down-stream task to be able to use it for predictions and inference.\n",
      "Some weights of the model checkpoint at prajjwal1/bert-medium were not used when initializing BertModel: ['cls.predictions.transform.LayerNorm.bias', 'cls.seq_relationship.weight', 'cls.predictions.transform.dense.bias', 'cls.predictions.decoder.bias', 'cls.seq_relationship.bias', 'cls.predictions.transform.LayerNorm.weight', 'cls.predictions.bias', 'cls.predictions.transform.dense.weight', 'cls.predictions.decoder.weight']\n",
      "- This IS expected if you are initializing BertModel from the checkpoint of a model trained on another task or with another architecture (e.g. initializing a BertForSequenceClassification model from a BertForPreTraining model).\n",
      "- This IS NOT expected if you are initializing BertModel from the checkpoint of a model that you expect to be exactly identical (initializing a BertForSequenceClassification model from a BertForSequenceClassification model).\n"
     ]
    }
   ],
   "source": [
    "test = CLIPModel()"
   ]
  },
  {
   "cell_type": "code",
   "execution_count": 5,
   "metadata": {},
   "outputs": [],
   "source": [
    "model_name = \"prajjwal1/bert-medium\""
   ]
  },
  {
   "cell_type": "code",
   "execution_count": 6,
   "metadata": {},
   "outputs": [
    {
     "name": "stderr",
     "output_type": "stream",
     "text": [
      "Some weights of the model checkpoint at prajjwal1/bert-medium were not used when initializing BertModel: ['cls.predictions.transform.LayerNorm.bias', 'cls.seq_relationship.weight', 'cls.predictions.transform.dense.bias', 'cls.predictions.decoder.bias', 'cls.seq_relationship.bias', 'cls.predictions.transform.LayerNorm.weight', 'cls.predictions.bias', 'cls.predictions.transform.dense.weight', 'cls.predictions.decoder.weight']\n",
      "- This IS expected if you are initializing BertModel from the checkpoint of a model trained on another task or with another architecture (e.g. initializing a BertForSequenceClassification model from a BertForPreTraining model).\n",
      "- This IS NOT expected if you are initializing BertModel from the checkpoint of a model that you expect to be exactly identical (initializing a BertForSequenceClassification model from a BertForSequenceClassification model).\n"
     ]
    }
   ],
   "source": [
    "model = BertModel.from_pretrained(model_name)\n"
   ]
  },
  {
   "cell_type": "code",
   "execution_count": 7,
   "metadata": {},
   "outputs": [],
   "source": [
    "model2 = BertModel(config=BertConfig.from_pretrained(model_name))"
   ]
  },
  {
   "cell_type": "code",
   "execution_count": 9,
   "metadata": {},
   "outputs": [
    {
     "name": "stderr",
     "output_type": "stream",
     "text": [
      "Some weights of the model checkpoint at prajjwal1/bert-medium were not used when initializing BertModel: ['cls.predictions.transform.LayerNorm.bias', 'cls.seq_relationship.weight', 'cls.predictions.transform.dense.bias', 'cls.predictions.decoder.bias', 'cls.seq_relationship.bias', 'cls.predictions.transform.LayerNorm.weight', 'cls.predictions.bias', 'cls.predictions.transform.dense.weight', 'cls.predictions.decoder.weight']\n",
      "- This IS expected if you are initializing BertModel from the checkpoint of a model trained on another task or with another architecture (e.g. initializing a BertForSequenceClassification model from a BertForPreTraining model).\n",
      "- This IS NOT expected if you are initializing BertModel from the checkpoint of a model that you expect to be exactly identical (initializing a BertForSequenceClassification model from a BertForSequenceClassification model).\n"
     ]
    }
   ],
   "source": [
    "model3 = BertModel.from_pretrained(pretrained_model_name_or_path=model_name,config=BertConfig.from_pretrained(model_name))"
   ]
  },
  {
   "cell_type": "markdown",
   "metadata": {},
   "source": [
    "## Not new"
   ]
  },
  {
   "cell_type": "code",
   "execution_count": 3,
   "metadata": {},
   "outputs": [],
   "source": [
    "from dataset import get_dataset\n",
    "from training import valid_one_epoch\n",
    "import os\n",
    "import config as CFG\n",
    "import torch\n",
    "from torch.utils.data import DataLoader\n",
    "import torchvision.transforms as transforms\n",
    "import wandb"
   ]
  },
  {
   "cell_type": "code",
   "execution_count": 6,
   "metadata": {},
   "outputs": [],
   "source": [
    "transform_train = transforms.Compose([\n",
    "            transforms.RandomCrop(224,pad_if_needed=True),\n",
    "            transforms.RandomHorizontalFlip(), \n",
    "            transforms.ToTensor(), \n",
    "            transforms.Normalize((0.444, 0.421, 0.385), \n",
    "                                 (0.285, 0.277, 0.286))])"
   ]
  },
  {
   "cell_type": "code",
   "execution_count": 7,
   "metadata": {},
   "outputs": [
    {
     "name": "stdout",
     "output_type": "stream",
     "text": [
      "Using downloaded and verified file: ./flickr30k/flickr30k_train.json\n",
      "Using downloaded and verified file: ./flickr30k/flickr30k_val.json\n",
      "Using downloaded and verified file: ./flickr30k/flickr30k_test.json\n"
     ]
    }
   ],
   "source": [
    "tokenizer = get_tokenizer(CFG.text_model_name)\n",
    "ds_train = get_dataset(tokenizer=tokenizer,transform=transform_train,split=\"train\")\n",
    "ds_val = get_dataset(tokenizer=tokenizer,transform=transform_train,split=\"val\")\n",
    "ds_test = get_dataset(tokenizer=tokenizer,transform=transform_train,split=\"test\")"
   ]
  },
  {
   "cell_type": "code",
   "execution_count": 12,
   "metadata": {},
   "outputs": [
    {
     "name": "stdout",
     "output_type": "stream",
     "text": [
      "torch.Size([3, 224, 224])\n",
      "torch.Size([128])\n",
      "torch.Size([3, 224, 224])\n",
      "torch.Size([128])\n",
      "torch.Size([3, 224, 224])\n",
      "torch.Size([128])\n"
     ]
    }
   ],
   "source": [
    "print(ds_train.__getitem__(0)[\"image\"].shape)\n",
    "print(ds_train.__getitem__(0)[\"input_ids\"].shape)\n",
    "print(ds_val.__getitem__(0)[\"image\"].shape)\n",
    "print(ds_val.__getitem__(0)[\"input_ids\"].shape)\n",
    "print(ds_test.__getitem__(0)[\"image\"].shape)\n",
    "print(ds_test.__getitem__(0)[\"input_ids\"].shape)\n"
   ]
  },
  {
   "cell_type": "code",
   "execution_count": 2,
   "metadata": {},
   "outputs": [
    {
     "ename": "NameError",
     "evalue": "name 'get_dataloader' is not defined",
     "output_type": "error",
     "traceback": [
      "\u001b[0;31m---------------------------------------------------------------------------\u001b[0m",
      "\u001b[0;31mNameError\u001b[0m                                 Traceback (most recent call last)",
      "\u001b[1;32m/home/vincent/unifr/master_thesis/master_lit/temp.ipynb Cell 13'\u001b[0m in \u001b[0;36m<cell line: 1>\u001b[0;34m()\u001b[0m\n\u001b[0;32m----> <a href='vscode-notebook-cell://wsl%2Bubuntu/home/vincent/unifr/master_thesis/master_lit/temp.ipynb#ch0000012vscode-remote?line=0'>1</a>\u001b[0m dataloader_valid \u001b[39m=\u001b[39m get_dataloader(tokenizer\u001b[39m=\u001b[39mtokenizer,batch_size\u001b[39m=\u001b[39mCFG\u001b[39m.\u001b[39mbatch_size,shuffle\u001b[39m=\u001b[39mCFG\u001b[39m.\u001b[39mshuffle_train,num_workers\u001b[39m=\u001b[39mCFG\u001b[39m.\u001b[39mnum_workers,split\u001b[39m=\u001b[39m\u001b[39m\"\u001b[39m\u001b[39mval\u001b[39m\u001b[39m\"\u001b[39m)\n\u001b[1;32m      <a href='vscode-notebook-cell://wsl%2Bubuntu/home/vincent/unifr/master_thesis/master_lit/temp.ipynb#ch0000012vscode-remote?line=1'>2</a>\u001b[0m device \u001b[39m=\u001b[39m torch\u001b[39m.\u001b[39mdevice(\u001b[39m\"\u001b[39m\u001b[39mcuda\u001b[39m\u001b[39m\"\u001b[39m \u001b[39mif\u001b[39;00m torch\u001b[39m.\u001b[39mcuda\u001b[39m.\u001b[39mis_available() \u001b[39melse\u001b[39;00m \u001b[39m\"\u001b[39m\u001b[39mcpu\u001b[39m\u001b[39m\"\u001b[39m)\n\u001b[1;32m      <a href='vscode-notebook-cell://wsl%2Bubuntu/home/vincent/unifr/master_thesis/master_lit/temp.ipynb#ch0000012vscode-remote?line=3'>4</a>\u001b[0m model \u001b[39m=\u001b[39m CLIPModel()\u001b[39m.\u001b[39mto(device)\n",
      "\u001b[0;31mNameError\u001b[0m: name 'get_dataloader' is not defined"
     ]
    }
   ],
   "source": [
    "dataloader_valid = get_dataloader(tokenizer=tokenizer,batch_size=CFG.batch_size,shuffle=CFG.shuffle_train,num_workers=CFG.num_workers,split=\"val\")\n",
    "device = torch.device(\"cuda\" if torch.cuda.is_available() else \"cpu\")\n",
    "\n",
    "model = CLIPModel().to(device)\n",
    "loss_fn = CLIPLoss()"
   ]
  },
  {
   "cell_type": "code",
   "execution_count": 17,
   "metadata": {},
   "outputs": [
    {
     "name": "stderr",
     "output_type": "stream",
     "text": [
      "Failed to detect the name of this notebook, you can set it manually with the WANDB_NOTEBOOK_NAME environment variable to enable code saving.\n",
      "\u001b[34m\u001b[1mwandb\u001b[0m: Currently logged in as: \u001b[33mcarrelv\u001b[0m. Use \u001b[1m`wandb login --relogin`\u001b[0m to force relogin\n"
     ]
    },
    {
     "data": {
      "text/html": [
       "wandb version 0.13.4 is available!  To upgrade, please run:\n",
       " $ pip install wandb --upgrade"
      ],
      "text/plain": [
       "<IPython.core.display.HTML object>"
      ]
     },
     "metadata": {},
     "output_type": "display_data"
    },
    {
     "data": {
      "text/html": [
       "Tracking run with wandb version 0.13.1"
      ],
      "text/plain": [
       "<IPython.core.display.HTML object>"
      ]
     },
     "metadata": {},
     "output_type": "display_data"
    },
    {
     "data": {
      "text/html": [
       "Run data is saved locally in <code>/home/vincent/unifr/master_thesis/master_lit/wandb/run-20221014_142414-2ybe3au6</code>"
      ],
      "text/plain": [
       "<IPython.core.display.HTML object>"
      ]
     },
     "metadata": {},
     "output_type": "display_data"
    },
    {
     "data": {
      "text/html": [
       "Syncing run <strong><a href=\"https://wandb.ai/carrelv/master_test_1/runs/2ybe3au6\" target=\"_blank\">easy-oath-31</a></strong> to <a href=\"https://wandb.ai/carrelv/master_test_1\" target=\"_blank\">Weights & Biases</a> (<a href=\"https://wandb.me/run\" target=\"_blank\">docs</a>)<br/>"
      ],
      "text/plain": [
       "<IPython.core.display.HTML object>"
      ]
     },
     "metadata": {},
     "output_type": "display_data"
    },
    {
     "name": "stderr",
     "output_type": "stream",
     "text": [
      "100%|██████████| 1/1 [00:05<00:00,  5.84s/it, valid_loss=6.94]\n"
     ]
    }
   ],
   "source": [
    "wandb.init(project=\"master_test_1\",\n",
    "           config={\n",
    "               \"batch_size\": CFG.batch_size,\n",
    "               \"learning_rate\": CFG.head_lr,\n",
    "               \"dataset\": \"flickr30k\",\n",
    "           },\n",
    "           group=\"group_test\")\n",
    "    \n",
    "valid_loss = valid_one_epoch(model,loss_fn,dataloader_valid,device)\n"
   ]
  },
  {
   "cell_type": "code",
   "execution_count": 21,
   "metadata": {},
   "outputs": [
    {
     "data": {
      "text/plain": [
       "tensor([[-0.0927,  0.3875, -0.1741,  ...,  0.0377,  0.0927, -0.1575],\n",
       "        [-0.1718,  0.1364, -0.2955,  ..., -0.2148, -0.1264, -0.2588],\n",
       "        [-0.0938,  0.0679, -0.3672,  ...,  0.0347,  0.0078, -0.3171],\n",
       "        ...,\n",
       "        [-0.3468,  0.3004, -0.2342,  ..., -0.1646, -0.2120, -0.2403],\n",
       "        [-0.0600,  0.5362,  0.0269,  ..., -0.0285,  0.1017, -0.2270],\n",
       "        [-0.2309,  0.0847, -0.0814,  ..., -0.4008, -0.2727, -0.2470]],\n",
       "       device='cuda:0', grad_fn=<DivBackward0>)"
      ]
     },
     "execution_count": 21,
     "metadata": {},
     "output_type": "execute_result"
    }
   ],
   "source": [
    "valid_loss.avg_text_l"
   ]
  },
  {
   "cell_type": "code",
   "execution_count": 6,
   "metadata": {},
   "outputs": [
    {
     "name": "stdout",
     "output_type": "stream",
     "text": [
      "Using downloaded and verified file: ./flickr30k/flickr30k_train.json\n",
      "Using downloaded and verified file: ./flickr30k/flickr30k_val.json\n"
     ]
    },
    {
     "name": "stderr",
     "output_type": "stream",
     "text": [
      "Some weights of ViTModel were not initialized from the model checkpoint at facebook/dino-vits16 and are newly initialized: ['pooler.dense.bias', 'pooler.dense.weight']\n",
      "You should probably TRAIN this model on a down-stream task to be able to use it for predictions and inference.\n",
      "Some weights of the model checkpoint at prajjwal1/bert-medium were not used when initializing BertModel: ['cls.predictions.decoder.bias', 'cls.predictions.bias', 'cls.predictions.transform.dense.weight', 'cls.predictions.transform.LayerNorm.bias', 'cls.seq_relationship.weight', 'cls.predictions.decoder.weight', 'cls.seq_relationship.bias', 'cls.predictions.transform.dense.bias', 'cls.predictions.transform.LayerNorm.weight']\n",
      "- This IS expected if you are initializing BertModel from the checkpoint of a model trained on another task or with another architecture (e.g. initializing a BertForSequenceClassification model from a BertForPreTraining model).\n",
      "- This IS NOT expected if you are initializing BertModel from the checkpoint of a model that you expect to be exactly identical (initializing a BertForSequenceClassification model from a BertForSequenceClassification model).\n"
     ]
    }
   ],
   "source": [
    "tokenizer = get_tokenizer(CFG.text_model_name)\n",
    "feature_extractor = get_feature_extractor(CFG.vision_model_name)\n",
    "\n",
    "dataloader_train = get_dataloader(tokenizer=tokenizer,feature_extractor=feature_extractor,batch_size=CFG.batch_size,shuffle=CFG.shuffle_train,num_workers=CFG.num_workers,split=\"train\")\n",
    "dataloader_valid = get_dataloader(tokenizer=tokenizer,feature_extractor=feature_extractor,batch_size=CFG.batch_size,shuffle=CFG.shuffle_train,num_workers=CFG.num_workers,split=\"val\")\n",
    "\n",
    "\n",
    "device = torch.device(\"cuda\" if torch.cuda.is_available() else \"cpu\")\n",
    "\n",
    "model = CLIPModel().to(device)\n",
    "loss_fn = CLIPLoss()"
   ]
  },
  {
   "cell_type": "code",
   "execution_count": 16,
   "metadata": {},
   "outputs": [],
   "source": [
    "test = next(iter(dataloader_train))"
   ]
  },
  {
   "cell_type": "code",
   "execution_count": 17,
   "metadata": {},
   "outputs": [
    {
     "data": {
      "text/plain": [
       "torch.Size([1024, 1, 3, 224, 224])"
      ]
     },
     "execution_count": 17,
     "metadata": {},
     "output_type": "execute_result"
    }
   ],
   "source": [
    "test[\"image\"].shape"
   ]
  },
  {
   "cell_type": "code",
   "execution_count": 11,
   "metadata": {},
   "outputs": [],
   "source": [
    "\n",
    "transform_train = transforms.Compose([\n",
    "            transforms.RandomCrop(224,pad_if_needed=True),\n",
    "            transforms.RandomHorizontalFlip(), \n",
    "            ])"
   ]
  },
  {
   "cell_type": "code",
   "execution_count": 12,
   "metadata": {},
   "outputs": [
    {
     "name": "stdout",
     "output_type": "stream",
     "text": [
      "Using downloaded and verified file: ./flickr30k/flickr30k_train.json\n"
     ]
    }
   ],
   "source": [
    "dataset = get_dataset(tokenizer=tokenizer,feature_extractor=feature_extractor,transform=transform_train,split=\"train\")"
   ]
  },
  {
   "cell_type": "code",
   "execution_count": 13,
   "metadata": {},
   "outputs": [],
   "source": [
    "test = dataset.__getitem__(0)"
   ]
  },
  {
   "cell_type": "code",
   "execution_count": 15,
   "metadata": {},
   "outputs": [
    {
     "data": {
      "text/plain": [
       "torch.Size([1, 3, 224, 224])"
      ]
     },
     "execution_count": 15,
     "metadata": {},
     "output_type": "execute_result"
    }
   ],
   "source": [
    "test[\"image\"].shape"
   ]
  },
  {
   "cell_type": "code",
   "execution_count": 38,
   "metadata": {},
   "outputs": [
    {
     "data": {
      "text/plain": [
       "torch.Size([128])"
      ]
     },
     "execution_count": 38,
     "metadata": {},
     "output_type": "execute_result"
    }
   ],
   "source": [
    "test[\"input_ids\"].shape"
   ]
  },
  {
   "cell_type": "code",
   "execution_count": 28,
   "metadata": {},
   "outputs": [
    {
     "data": {
      "text/plain": [
       "torch.Size([1024, 3, 224, 224])"
      ]
     },
     "execution_count": 28,
     "metadata": {},
     "output_type": "execute_result"
    }
   ],
   "source": [
    "test[\"image\"][0].shape"
   ]
  },
  {
   "cell_type": "markdown",
   "metadata": {},
   "source": [
    "## DDP"
   ]
  },
  {
   "cell_type": "code",
   "execution_count": 7,
   "metadata": {},
   "outputs": [],
   "source": [
    "from torchvision.datasets.utils import download_url\n",
    "from torch.utils.data import  Dataset\n",
    "import json\n",
    "from dataset import pre_caption\n",
    "import config as CFG\n",
    "from torchvision.datasets import Flickr30k\n",
    "import random"
   ]
  },
  {
   "cell_type": "code",
   "execution_count": 38,
   "metadata": {},
   "outputs": [],
   "source": [
    "\n",
    "class flickr30k_test(Dataset):\n",
    "    def __init__(self, tokenizer,transform,image_root, ann_root, split, max_words=CFG.max_length, prompt=CFG.prompt):        \n",
    "        '''\n",
    "        image_root (string): Root directory of images (e.g. data/)\n",
    "        ann_root (string): directory to store the annotation file\n",
    "        split (string): one of \"train\" or \"test\"\n",
    "        '''        \n",
    "        train = 'https://storage.googleapis.com/sfr-vision-language-research/datasets/flickr30k_train.json'\n",
    "        test = 'https://storage.googleapis.com/sfr-vision-language-research/datasets/flickr30k_test.json'\n",
    "\n",
    "        self.tokenizer = tokenizer\n",
    "\n",
    "        self.split = split\n",
    "        assert self.split in (\"train\",\"test\")\n",
    "\n",
    "        if self.split == \"train\":\n",
    "            url = train\n",
    "            filename = 'flickr30k_train.json'\n",
    "        else:\n",
    "            url = test\n",
    "            filename = 'flickr30k_test.json'\n",
    "\n",
    "        download_url(url,ann_root)\n",
    "        \n",
    "        self.annotation = json.load(open(os.path.join(ann_root,filename),'r'))\n",
    "        self.transform = transform\n",
    "        self.image_root = image_root\n",
    "        self.max_words = max_words      \n",
    "        self.prompt = prompt\n",
    "        \n",
    "        self.img_ids = {} \n",
    "\n",
    "        for ann in self.annotation:\n",
    "            img_id = ann['image_id']\n",
    "            if img_id not in self.img_ids.keys():\n",
    "                self.img_ids[img_id] = ann\n",
    "                self.img_ids[img_id][\"caption\"] = [self.img_ids[img_id][\"caption\"]]\n",
    "            \n",
    "            else: \n",
    "                ls = self.img_ids[img_id][\"caption\"]\n",
    "                ls.append(ann[\"caption\"])               \n",
    "                self.img_ids[img_id][\"caption\"] = ls\n",
    "\n",
    "        self.annotation = None\n",
    "        \n",
    "    def __len__(self):\n",
    "        return len(self.img_ids)\n",
    "    \n",
    "    def __getitem__(self, index):    \n",
    "        \n",
    "        item = self.img_ids[index]\n",
    "        \n",
    "        image_path = os.path.join(self.image_root,item['image'])        \n",
    "        image = Image.open(image_path).convert('RGB')   \n",
    "        image = self.transform(image)\n",
    "        \n",
    "        caption = self.prompt+pre_caption(random.choice(item['caption']), self.max_words)\n",
    "        \n",
    "        caption_encoded = self.tokenizer(caption,padding=\"max_length\",max_length=self.max_words)\n",
    "\n",
    "        return {\"image\" :image, \"input_ids\": torch.as_tensor(caption_encoded[\"input_ids\"]), \"attention_mask\": torch.as_tensor(caption_encoded[\"attention_mask\"])}"
   ]
  },
  {
   "cell_type": "code",
   "execution_count": 39,
   "metadata": {},
   "outputs": [
    {
     "name": "stdout",
     "output_type": "stream",
     "text": [
      "Using downloaded and verified file: ./flickr30k/flickr30k_train.json\n"
     ]
    }
   ],
   "source": [
    "ds = flickr30k_test(tokenizer=tokenizer,transform=transform_train,image_root=CFG.image_root,ann_root=CFG.ann_root,split=\"train\")"
   ]
  },
  {
   "cell_type": "code",
   "execution_count": 40,
   "metadata": {},
   "outputs": [
    {
     "ename": "NameError",
     "evalue": "name 'Image' is not defined",
     "output_type": "error",
     "traceback": [
      "\u001b[0;31m---------------------------------------------------------------------------\u001b[0m",
      "\u001b[0;31mNameError\u001b[0m                                 Traceback (most recent call last)",
      "\u001b[1;32m/home/vincent/unifr/master_thesis/master_lit/temp.ipynb Cell 13'\u001b[0m in \u001b[0;36m<cell line: 1>\u001b[0;34m()\u001b[0m\n\u001b[0;32m----> <a href='vscode-notebook-cell://wsl%2Bubuntu/home/vincent/unifr/master_thesis/master_lit/temp.ipynb#ch0000018vscode-remote?line=0'>1</a>\u001b[0m ds\u001b[39m.\u001b[39;49m\u001b[39m__getitem__\u001b[39;49m(\u001b[39m0\u001b[39;49m)\n",
      "\u001b[1;32m/home/vincent/unifr/master_thesis/master_lit/temp.ipynb Cell 11'\u001b[0m in \u001b[0;36mflickr30k_test.__getitem__\u001b[0;34m(self, index)\u001b[0m\n\u001b[1;32m     <a href='vscode-notebook-cell://wsl%2Bubuntu/home/vincent/unifr/master_thesis/master_lit/temp.ipynb#ch0000015vscode-remote?line=50'>51</a>\u001b[0m item \u001b[39m=\u001b[39m \u001b[39mself\u001b[39m\u001b[39m.\u001b[39mimg_ids[index]\n\u001b[1;32m     <a href='vscode-notebook-cell://wsl%2Bubuntu/home/vincent/unifr/master_thesis/master_lit/temp.ipynb#ch0000015vscode-remote?line=52'>53</a>\u001b[0m image_path \u001b[39m=\u001b[39m os\u001b[39m.\u001b[39mpath\u001b[39m.\u001b[39mjoin(\u001b[39mself\u001b[39m\u001b[39m.\u001b[39mimage_root,item[\u001b[39m'\u001b[39m\u001b[39mimage\u001b[39m\u001b[39m'\u001b[39m])        \n\u001b[0;32m---> <a href='vscode-notebook-cell://wsl%2Bubuntu/home/vincent/unifr/master_thesis/master_lit/temp.ipynb#ch0000015vscode-remote?line=53'>54</a>\u001b[0m image \u001b[39m=\u001b[39m Image\u001b[39m.\u001b[39mopen(image_path)\u001b[39m.\u001b[39mconvert(\u001b[39m'\u001b[39m\u001b[39mRGB\u001b[39m\u001b[39m'\u001b[39m)   \n\u001b[1;32m     <a href='vscode-notebook-cell://wsl%2Bubuntu/home/vincent/unifr/master_thesis/master_lit/temp.ipynb#ch0000015vscode-remote?line=54'>55</a>\u001b[0m image \u001b[39m=\u001b[39m \u001b[39mself\u001b[39m\u001b[39m.\u001b[39mtransform(image)\n\u001b[1;32m     <a href='vscode-notebook-cell://wsl%2Bubuntu/home/vincent/unifr/master_thesis/master_lit/temp.ipynb#ch0000015vscode-remote?line=56'>57</a>\u001b[0m caption \u001b[39m=\u001b[39m \u001b[39mself\u001b[39m\u001b[39m.\u001b[39mprompt\u001b[39m+\u001b[39mpre_caption(random\u001b[39m.\u001b[39mchoice(item[\u001b[39m'\u001b[39m\u001b[39mcaption\u001b[39m\u001b[39m'\u001b[39m]), \u001b[39mself\u001b[39m\u001b[39m.\u001b[39mmax_words)\n",
      "\u001b[0;31mNameError\u001b[0m: name 'Image' is not defined"
     ]
    }
   ],
   "source": [
    "ds.__getitem__(0)"
   ]
  },
  {
   "cell_type": "code",
   "execution_count": 36,
   "metadata": {},
   "outputs": [
    {
     "data": {
      "text/plain": [
       "'Two young, White males are outside near many bushes.'"
      ]
     },
     "execution_count": 36,
     "metadata": {},
     "output_type": "execute_result"
    }
   ],
   "source": [
    "random.choice(ds.img_ids[0][\"caption\"])"
   ]
  },
  {
   "cell_type": "code",
   "execution_count": 31,
   "metadata": {},
   "outputs": [],
   "source": [
    "from dataset import flickr30k"
   ]
  },
  {
   "cell_type": "code",
   "execution_count": 32,
   "metadata": {},
   "outputs": [
    {
     "name": "stdout",
     "output_type": "stream",
     "text": [
      "Using downloaded and verified file: ./flickr30k/flickr30k_train.json\n"
     ]
    }
   ],
   "source": [
    "ds2 = flickr30k(tokenizer=tokenizer,transform=transform_train,image_root=CFG.image_root,ann_root=CFG.ann_root,split=\"train\")"
   ]
  },
  {
   "cell_type": "code",
   "execution_count": 25,
   "metadata": {},
   "outputs": [
    {
     "data": {
      "text/plain": [
       "[{'image': 'flickr30k-images/1000092795.jpg',\n",
       "  'caption': 'Two young guys with shaggy hair look at their hands while hanging out in the yard.',\n",
       "  'image_id': 0},\n",
       " {'image': 'flickr30k-images/1000092795.jpg',\n",
       "  'caption': 'Two young, White males are outside near many bushes.',\n",
       "  'image_id': 0},\n",
       " {'image': 'flickr30k-images/1000092795.jpg',\n",
       "  'caption': 'Two men in green shirts are standing in a yard.',\n",
       "  'image_id': 0},\n",
       " {'image': 'flickr30k-images/1000092795.jpg',\n",
       "  'caption': 'A man in a blue shirt standing in a garden.',\n",
       "  'image_id': 0},\n",
       " {'image': 'flickr30k-images/1000092795.jpg',\n",
       "  'caption': 'Two friends enjoy time spent together.',\n",
       "  'image_id': 0}]"
      ]
     },
     "execution_count": 25,
     "metadata": {},
     "output_type": "execute_result"
    }
   ],
   "source": [
    "ds2.annotation[:5]"
   ]
  },
  {
   "cell_type": "code",
   "execution_count": null,
   "metadata": {},
   "outputs": [],
   "source": []
  }
 ],
 "metadata": {
  "interpreter": {
   "hash": "f4a9f4c4ce030a60d5e9e4103a5ecbe6be356f825e2c4ec21bb33804c21bc9e1"
  },
  "kernelspec": {
   "display_name": "Python 3.10.4 ('lit')",
   "language": "python",
   "name": "python3"
  },
  "language_info": {
   "codemirror_mode": {
    "name": "ipython",
    "version": 3
   },
   "file_extension": ".py",
   "mimetype": "text/x-python",
   "name": "python",
   "nbconvert_exporter": "python",
   "pygments_lexer": "ipython3",
   "version": "3.10.4"
  },
  "orig_nbformat": 4
 },
 "nbformat": 4,
 "nbformat_minor": 2
}
